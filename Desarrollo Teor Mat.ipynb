{
 "cells": [
  {
   "cell_type": "markdown",
   "metadata": {},
   "source": [
    "# Desarrollo Teórico "
   ]
  },
  {
   "cell_type": "markdown",
   "metadata": {},
   "source": [
    "**Integrantes**\n",
    "- Ricardo Ortega Bolaños.\n",
    "- Viowi Y. Cabrisas Amuedo."
   ]
  },
  {
   "cell_type": "markdown",
   "metadata": {},
   "source": [
    "## Base de Datos y Problema\n",
    "\n",
    "El problema a resolver trata sobre el cáncer de mama, uno de los tumores malignos más frecuentes en el mundo y su investigación constituye un desafío en la práctica médica. El diagnóstico precoz del cáncer de mama se ve obstaculizado por la heterogeneidad clínica y patológica de la enfermedad y las limitaciones de los métodos de cribado utilizados hasta el momento [[1]](http://scielo.sld.cu/pdf/rcim/v13n1/1684-1859-rcim-13-01-e385.pdf).\n",
    "\n",
    "El diagnóstico, entre tumor benigno y maligno, se basa en la obtención de los factores de riesgo, los hallazgos al examen físico, las pruebas de imágenes y exámenes anatomopatológicos, siendo de gran importancia el uso de datos clínicos de la masa, así como Mamografías y TAC. \n",
    "\n",
    "En nuestro caso, nos enfocamos en el diagnostico precoz de cáncer de mama a partir de datos clínicos. . La base de datos elegida [[2]](https://archive.ics.uci.edu/ml/datasets/Breast+Cancer+Wisconsin+%28Diagnostic%29) pertenece a la Universidad de Wisconsin, contiene …\n"
   ]
  },
  {
   "cell_type": "markdown",
   "metadata": {},
   "source": [
    "## Tipo de Tarea\n",
    "\n",
    "Clasificación Binaria\n",
    "\n",
    "- 0 $\\rightarrow$ Tumor Benigno\n",
    "- 1 $\\rightarrow$ Tumor Maligno"
   ]
  },
  {
   "cell_type": "markdown",
   "metadata": {},
   "source": []
  }
 ],
 "metadata": {
  "kernelspec": {
   "display_name": "Python_v2",
   "language": "python",
   "name": "python_v2"
  },
  "language_info": {
   "codemirror_mode": {
    "name": "ipython",
    "version": 3
   },
   "file_extension": ".py",
   "mimetype": "text/x-python",
   "name": "python",
   "nbconvert_exporter": "python",
   "pygments_lexer": "ipython3",
   "version": "3.10.7"
  }
 },
 "nbformat": 4,
 "nbformat_minor": 2
}
